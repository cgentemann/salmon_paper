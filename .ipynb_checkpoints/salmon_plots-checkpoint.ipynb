{
 "cells": [
  {
   "cell_type": "code",
   "execution_count": 2,
   "metadata": {},
   "outputs": [],
   "source": [
    "#import libraries\n",
    "import pandas as pd\n",
    "import matplotlib.pyplot as plt\n",
    "\n",
    "#subroutine to read in all experiments from single excel file\n",
    "def readData(fname):\n",
    "    xl = pd.ExcelFile(fname)\n",
    "    sheet_names = xl.sheet_names #)  # see all sheet names\n",
    "    #print(sheet_names)\n",
    "    istart=0\n",
    "    for sheet_name in sheet_names:\n",
    "        if sheet_name=='Metadata':\n",
    "            continue\n",
    "        ds1 = xl.parse(sheet_name,header=0,skiprows=1)\n",
    "        if istart==0:\n",
    "            ds=ds1\n",
    "            istart=1\n",
    "        else:\n",
    "            ds=pd.concat([ds,ds1]) #ds.append(ds1)\n",
    "        #print(type(ds1))\n",
    "        #print(type(ds))\n",
    "        print(sheet_name,len(ds))\n",
    "    return ds\n"
   ]
  },
  {
   "cell_type": "code",
   "execution_count": 3,
   "metadata": {},
   "outputs": [
    {
     "name": "stdout",
     "output_type": "stream",
     "text": [
      "2017_1 105\n",
      "2017_2 210\n",
      "2017_3 312\n",
      "2017_4 413\n",
      "2017_5 515\n",
      "2017_6 615\n",
      "2017_7 714\n",
      "2017_8 815\n",
      "2017_9 916\n",
      "2017_10 1016\n",
      "2017_11 1118\n",
      "2017_12 1220\n",
      "2017_14 1318\n",
      "2017_15 1422\n",
      "2017_16 1524\n",
      "2017_17 1625\n",
      "2017_18 1732\n",
      "2017_20 1826\n",
      "2018_1 1929\n",
      "2018_2 2032\n",
      "2018_3 2145\n",
      "2018_4 2247\n",
      "2018_5 2359\n",
      "2018_6 2764\n"
     ]
    }
   ],
   "source": [
    "adir = 'C:/Users/gentemann/Google Drive/f_drive/docs/papers/in_prep/dave/'\n",
    "file = adir + 'Duplicate_Master_Data_Jump_Test_2014_2017_2018.xlsx'\n",
    "ds = readData(file)\n",
    "df = pd.DataFrame(ds)\n"
   ]
  },
  {
   "cell_type": "code",
   "execution_count": 4,
   "metadata": {},
   "outputs": [
    {
     "name": "stdout",
     "output_type": "stream",
     "text": [
      "Experiment_number\n",
      "2017_1     105\n",
      "2017_10    100\n",
      "2017_11    102\n",
      "2017_12    102\n",
      "2017_14     98\n",
      "2017_15    104\n",
      "2017_16    102\n",
      "2017_17    101\n",
      "2017_18    107\n",
      "2017_2     105\n",
      "2017_20     94\n",
      "2017_3     102\n",
      "2017_4     101\n",
      "2017_5     102\n",
      "2017_6     100\n",
      "2017_7      99\n",
      "2017_8     101\n",
      "2017_9     101\n",
      "2018_1     103\n",
      "2018_2     103\n",
      "2018_3     113\n",
      "2018_4     102\n",
      "2018_5     112\n",
      "2018_6     405\n",
      "Name: fish_number, dtype: int64\n",
      "6 Experiment_number\n",
      "2017_10    100\n",
      "2017_17    101\n",
      "2017_18    107\n",
      "2017_4     101\n",
      "2017_5     102\n",
      "2017_6     100\n",
      "2017_7      99\n",
      "2018_2     103\n",
      "2018_3     113\n",
      "2018_4     102\n",
      "2018_5     112\n",
      "Name: fish_number, dtype: int64\n",
      "12 Experiment_number\n",
      "2017_1     105\n",
      "2017_11    102\n",
      "2017_12    102\n",
      "2017_14     98\n",
      "2017_15    104\n",
      "2017_16    102\n",
      "2017_2     105\n",
      "2017_20     94\n",
      "2017_3     102\n",
      "2017_8     101\n",
      "2017_9     101\n",
      "2018_1     103\n",
      "Name: fish_number, dtype: int64\n",
      "18 Experiment_number\n",
      "2018_6    405\n",
      "Name: fish_number, dtype: int64\n"
     ]
    }
   ],
   "source": [
    "#get some info about the data\n",
    "#print out number of fish per experiment for table on data\n",
    "print(ds.groupby('Experiment_number').fish_number.max())\n",
    "cond_6 = (ds.height_difference<8)  #6\" jumps\n",
    "cond_12 = (ds.height_difference>8) & (ds.height_difference<15)  #12\" jumps\n",
    "cond_18 = (ds.height_difference>15)  #18\" jumps\n",
    "subset = ds[cond_6]\n",
    "print('6',subset.groupby('Experiment_number').fish_number.max())\n",
    "subset = ds[cond_12]\n",
    "print('12',subset.groupby('Experiment_number').fish_number.max())\n",
    "subset = ds[cond_18]\n",
    "print('18',subset.groupby('Experiment_number').fish_number.max())\n"
   ]
  },
  {
   "cell_type": "code",
   "execution_count": 5,
   "metadata": {},
   "outputs": [
    {
     "name": "stdout",
     "output_type": "stream",
     "text": [
      "<class 'pandas.core.frame.DataFrame'>\n"
     ]
    }
   ],
   "source": [
    "cond_lower = (ds.successful_jump==0)   # stayed in lower pool, unsuccessful jumper\n",
    "cond_upper = (ds.successful_jump==1)  #made it to upper pool\n",
    "subset_upper = ds[cond_upper]\n",
    "subset_lower = ds[cond_lower]\n",
    "print(type(ds))"
   ]
  },
  {
   "cell_type": "code",
   "execution_count": 6,
   "metadata": {},
   "outputs": [
    {
     "name": "stderr",
     "output_type": "stream",
     "text": [
      "C:\\Users\\gentemann\\Anaconda3\\lib\\site-packages\\matplotlib\\axes\\_axes.py:6462: UserWarning: The 'normed' kwarg is deprecated, and has been replaced by the 'density' kwarg.\n",
      "  warnings.warn(\"The 'normed' kwarg is deprecated, and has been \"\n"
     ]
    },
    {
     "data": {
      "image/png": "[encoded data removed]",
      "text/plain": [
       "<Figure size 432x288 with 1 Axes>"
      ]
     },
     "metadata": {},
     "output_type": "display_data"
    }
   ],
   "source": [
    "# the histogram of the data\n",
    "fig = plt.figure()\n",
    "n, bins, patches = plt.hist(subset_lower.k_factor, 50, normed=1, facecolor='g', alpha=0.75)\n",
    "plt.xlabel('k_factor')\n",
    "plt.ylabel('Probability')\n",
    "plt.title('Histogram of k_factor')\n",
    "#plt.text(60, .025, r'$\\mu=100,\\ \\sigma=15$')\n",
    "plt.axis([0, 2, 0, 0.03])\n",
    "#plt.grid(True)\n",
    "fig.savefig(adir+'hist.png', dpi=300)"
   ]
  },
  {
   "cell_type": "code",
   "execution_count": 93,
   "metadata": {},
   "outputs": [
    {
     "data": {
      "image/png": "[encoded data removed]",
      "text/plain": [
       "<Figure size 432x288 with 1 Axes>"
      ]
     },
     "metadata": {},
     "output_type": "display_data"
    }
   ],
   "source": [
    "#plot all fish\n",
    "cond_lower = (ds.successful_jump==0)   # stayed in lower pool, unsuccessful jumper\n",
    "cond_upper = (ds.successful_jump==1)  #made it to upper pool\n",
    "subset_upper = ds[cond_upper]\n",
    "subset_lower = ds[cond_lower]\n",
    "fig = plt.figure()\n",
    "h=plt.scatter(subset_lower.length,subset_lower.weight,color='r',marker='.',s=12,label=\"lower\")\n",
    "h=plt.scatter(subset_upper.length,subset_upper.weight,color='k',marker='.',s=12,label=\"upper\")\n",
    "plt.axis([0, 130,0, 15])\n",
    "plt.ylabel('Weight (g)')\n",
    "plt.xlabel('Length (mm)')\n",
    "plt.legend()\n",
    "fig.savefig(adir+'all_scatter.png', dpi=300)"
   ]
  },
  {
   "cell_type": "code",
   "execution_count": 26,
   "metadata": {},
   "outputs": [
    {
     "data": {
      "image/png": "[encoded data removed]",
      "text/plain": [
       "<Figure size 432x288 with 1 Axes>"
      ]
     },
     "metadata": {},
     "output_type": "display_data"
    }
   ],
   "source": [
    "#6\" jumps\n",
    "#cond_lower = ((ds.successful_jump==0) & (ds.height_difference<10))  # stayed in lower pool, unsuccessful jumper\n",
    "#cond_upper = ((ds.successful_jump==1) & (ds.height_difference<10)) #made it to upper pool\n",
    "cond_lower = ((ds.successful_jump==0) & cond_6)  # stayed in lower pool, unsuccessful jumper\n",
    "cond_upper = ((ds.successful_jump==1) & cond_6) #made it to upper pool\n",
    "subset_upper = ds[cond_upper]\n",
    "subset_lower = ds[cond_lower]\n",
    "fig = plt.figure()\n",
    "h=plt.scatter(subset_lower.length,subset_lower.weight,color='r',marker='.',s=12,label=\"lower\")\n",
    "h=plt.scatter(subset_upper.length,subset_upper.weight,color='k',marker='.',s=12,label=\"upper\")\n",
    "plt.axis([0, 200,0, 70])\n",
    "plt.ylabel('Weight (g)')\n",
    "plt.xlabel('Length (mm)')\n",
    "plt.legend()\n",
    "fig.savefig(adir+'six_scatter.png', dpi=300)"
   ]
  },
  {
   "cell_type": "code",
   "execution_count": 27,
   "metadata": {},
   "outputs": [
    {
     "data": {
      "image/png": "[encoded data removed]",
      "text/plain": [
       "<Figure size 432x288 with 1 Axes>"
      ]
     },
     "metadata": {},
     "output_type": "display_data"
    }
   ],
   "source": [
    "#12\" jumps\n",
    "cond_lower = ((ds.successful_jump==0) & cond_12)  # stayed in lower pool, unsuccessful jumper\n",
    "cond_upper = ((ds.successful_jump==1) & cond_12) #made it to upper pool\n",
    "subset_upper = ds[cond_upper]\n",
    "subset_lower = ds[cond_lower]\n",
    "fig = plt.figure()\n",
    "h=plt.scatter(subset_lower.length,subset_lower.weight,color='r',marker='.',s=12,label=\"lower\")\n",
    "h=plt.scatter(subset_upper.length,subset_upper.weight,color='k',marker='.',s=12,label=\"upper\")\n",
    "plt.axis([0, 200,0, 70])\n",
    "plt.ylabel('Weight (g)')\n",
    "plt.xlabel('Length (mm)')\n",
    "plt.legend()\n",
    "fig.savefig(adir+'twelve_scatter.png', dpi=300)"
   ]
  },
  {
   "cell_type": "code",
   "execution_count": 28,
   "metadata": {},
   "outputs": [
    {
     "name": "stdout",
     "output_type": "stream",
     "text": [
      "405\n",
      "188 65.72\n"
     ]
    },
    {
     "data": {
      "image/png": "[encoded data removed]",
      "text/plain": [
       "<Figure size 432x288 with 1 Axes>"
      ]
     },
     "metadata": {},
     "output_type": "display_data"
    }
   ],
   "source": [
    "#12\" jumps\n",
    "cond_lower = ((ds.successful_jump==0) & cond_18)  # stayed in lower pool, unsuccessful jumper\n",
    "cond_upper = ((ds.successful_jump==1) & cond_18) #made it to upper pool\n",
    "subset_upper = ds[cond_upper]\n",
    "subset_lower = ds[cond_lower]\n",
    "fig = plt.figure()\n",
    "h=plt.scatter(subset_lower.length,subset_lower.weight,color='r',marker='.',s=12,label=\"lower\")\n",
    "h=plt.scatter(subset_upper.length,subset_upper.weight,color='k',marker='.',s=12,label=\"upper\")\n",
    "plt.axis([0, 200,0, 70])\n",
    "plt.ylabel('Weight (g)')\n",
    "plt.xlabel('Length (mm)')\n",
    "plt.legend()\n",
    "fig.savefig(adir+'eighteen_scatter.png', dpi=300)\n",
    "print(cond_lower.sum()+cond_upper.sum())\n",
    "print(ds.length.max(),ds.weight.max())"
   ]
  },
  {
   "cell_type": "code",
   "execution_count": 54,
   "metadata": {},
   "outputs": [
    {
     "name": "stdout",
     "output_type": "stream",
     "text": [
      "['Experiment_number', 'start_time', 'species', 'total_time', 'water_temperature', 'dissolved_oxygen', 'upper_pool_depth', 'lower_pool_depth', 'depth_over_wier', 'flow_rate', 'height_difference', 'fish_number', 'length', 'weight', 'successful_jump', 'k_factor', 'weir_type']\n"
     ]
    },
    {
     "data": {
      "text/html": [
       "<div>\n",
       "<style scoped>\n",
       "    .dataframe tbody tr th:only-of-type {\n",
       "        vertical-align: middle;\n",
       "    }\n",
       "\n",
       "    .dataframe tbody tr th {\n",
       "        vertical-align: top;\n",
       "    }\n",
       "\n",
       "    .dataframe thead th {\n",
       "        text-align: right;\n",
       "    }\n",
       "</style>\n",
       "<table border=\"1\" class=\"dataframe\">\n",
       "  <thead>\n",
       "    <tr style=\"text-align: right;\">\n",
       "      <th></th>\n",
       "      <th>length</th>\n",
       "      <th>k_factor</th>\n",
       "      <th>successful_jump</th>\n",
       "    </tr>\n",
       "  </thead>\n",
       "  <tbody>\n",
       "    <tr>\n",
       "      <th>0</th>\n",
       "      <td>60</td>\n",
       "      <td>0.898148</td>\n",
       "      <td>1</td>\n",
       "    </tr>\n",
       "    <tr>\n",
       "      <th>1</th>\n",
       "      <td>62</td>\n",
       "      <td>0.834984</td>\n",
       "      <td>1</td>\n",
       "    </tr>\n",
       "    <tr>\n",
       "      <th>2</th>\n",
       "      <td>62</td>\n",
       "      <td>0.948273</td>\n",
       "      <td>1</td>\n",
       "    </tr>\n",
       "    <tr>\n",
       "      <th>3</th>\n",
       "      <td>57</td>\n",
       "      <td>1.058355</td>\n",
       "      <td>1</td>\n",
       "    </tr>\n",
       "    <tr>\n",
       "      <th>4</th>\n",
       "      <td>67</td>\n",
       "      <td>0.957565</td>\n",
       "      <td>1</td>\n",
       "    </tr>\n",
       "  </tbody>\n",
       "</table>\n",
       "</div>"
      ],
      "text/plain": [
       "   length  k_factor  successful_jump\n",
       "0      60  0.898148                1\n",
       "1      62  0.834984                1\n",
       "2      62  0.948273                1\n",
       "3      57  1.058355                1\n",
       "4      67  0.957565                1"
      ]
     },
     "execution_count": 54,
     "metadata": {},
     "output_type": "execute_result"
    }
   ],
   "source": [
    "cols = df.columns.tolist()\n",
    "print(cols)\n",
    "cols_reorder = cols[12:13] + cols[15:16] + cols[14:15]\n",
    "df_reorder=df[cols_reorder]\n",
    "df_reorder.head()"
   ]
  },
  {
   "cell_type": "code",
   "execution_count": 64,
   "metadata": {},
   "outputs": [
    {
     "name": "stdout",
     "output_type": "stream",
     "text": [
      "0.7945007235890015\n"
     ]
    },
    {
     "name": "stderr",
     "output_type": "stream",
     "text": [
      "C:\\Users\\gentemann\\Anaconda3\\lib\\site-packages\\sklearn\\utils\\validation.py:475: DataConversionWarning: Data with input dtype int64 was converted to float64 by StandardScaler.\n",
      "  warnings.warn(msg, DataConversionWarning)\n"
     ]
    }
   ],
   "source": [
    "x = df_reorder.iloc[:,0:1].values  #just length  0.79 accuracy\n",
    "#x = df_reorder.iloc[:,1:2].values    #just k-factor  0.71 accuracy\n",
    "#x = df_reorder.iloc[:,0:2].values     #both length and k-factor but worried about their correlation  0.78 accuracy\n",
    "y= df_reorder.iloc[:,2].values\n",
    "# Split the data into Training and Testing set\n",
    "from sklearn.cross_validation import train_test_split\n",
    "x_train,x_test,y_train,y_test = train_test_split(x,y,test_size=0.25,random_state=0)\n",
    "# Feature scaling\n",
    "from sklearn.preprocessing import StandardScaler\n",
    "sc = StandardScaler()\n",
    "x_train = sc.fit_transform(x_train)\n",
    "x_test = sc.fit_transform(x_test)\n",
    "#Fitting logistic regression to the training set\n",
    "from sklearn.linear_model import LogisticRegression\n",
    "classifier = LogisticRegression(random_state = 0)\n",
    "classifier.fit(x_train,y_train)\n",
    "# Predicting the Test set results\n",
    "y_pred = classifier.predict(x_test)\n",
    "# Making the confusion matrix \n",
    "from sklearn.metrics import confusion_matrix\n",
    "cm = confusion_matrix(y_test,y_pred)\n",
    "from sklearn import metrics\n",
    "print (metrics.accuracy_score(y_test,classifier.predict(x_test)))"
   ]
  },
  {
   "cell_type": "code",
   "execution_count": 56,
   "metadata": {},
   "outputs": [
    {
     "data": {
      "text/plain": [
       "array([[466,  34],\n",
       "       [115,  76]], dtype=int64)"
      ]
     },
     "execution_count": 56,
     "metadata": {},
     "output_type": "execute_result"
    }
   ],
   "source": [
    "cm"
   ]
  },
  {
   "cell_type": "code",
   "execution_count": null,
   "metadata": {},
   "outputs": [],
   "source": []
  }
 ],
 "metadata": {
  "kernelspec": {
   "display_name": "Python 3",
   "language": "python",
   "name": "python3"
  },
  "language_info": {
   "codemirror_mode": {
    "name": "ipython",
    "version": 3
   },
   "file_extension": ".py",
   "mimetype": "text/x-python",
   "name": "python",
   "nbconvert_exporter": "python",
   "pygments_lexer": "ipython3",
   "version": "3.5.5"
  }
 },
 "nbformat": 4,
 "nbformat_minor": 2
}
