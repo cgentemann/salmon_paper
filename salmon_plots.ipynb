{
 "cells": [
  {
   "cell_type": "code",
   "execution_count": 32,
   "metadata": {},
   "outputs": [],
   "source": [
    "#import libraries\n",
    "import pandas as pd\n",
    "import matplotlib.pyplot as plt\n",
    "\n",
    "#subroutine to read in all experiments from single excel file\n",
    "def readData(fname):\n",
    "    xl = pd.ExcelFile(fname)\n",
    "    sheet_names = xl.sheet_names #)  # see all sheet names\n",
    "    #print(sheet_names)\n",
    "    istart=0\n",
    "    for sheet_name in sheet_names:\n",
    "        if sheet_name=='Metadata':\n",
    "            continue\n",
    "        ds1 = xl.parse(sheet_name,header=0,skiprows=1)\n",
    "        if istart==0:\n",
    "            ds=ds1\n",
    "            istart=1\n",
    "        else:\n",
    "            ds=pd.concat([ds,ds1]) #ds.append(ds1)\n",
    "        #print(type(ds1))\n",
    "        #print(type(ds))\n",
    "        print(sheet_name,len(ds))\n",
    "    return ds\n"
   ]
  },
  {
   "cell_type": "code",
   "execution_count": 33,
   "metadata": {},
   "outputs": [
    {
     "name": "stdout",
     "output_type": "stream",
     "text": [
      "2017_1 105\n",
      "2017_2 210\n",
      "2017_3 312\n",
      "2017_4 413\n",
      "2017_5 515\n",
      "2017_6 615\n",
      "2017_7 714\n",
      "2017_8 815\n",
      "2017_9 916\n",
      "2017_10 1016\n",
      "2017_11 1118\n",
      "2017_12 1220\n",
      "2017_14 1318\n",
      "2017_15 1422\n",
      "2017_16 1524\n",
      "2017_17 1625\n",
      "2017_18 1732\n",
      "2017_20 1826\n",
      "2018_1 1929\n",
      "2018_2 2032\n",
      "2018_3 2145\n",
      "2018_4 2247\n",
      "2018_5 2359\n",
      "2018_6 2764\n"
     ]
    }
   ],
   "source": [
    "adir = 'C:/Users/gentemann/Google Drive/f_drive/docs/papers/in_prep/dave/'\n",
    "file = adir + 'Duplicate_Master_Data_Jump_Test_2014_2017_2018.xlsx'\n",
    "ds = readData(file)\n",
    "df = pd.DataFrame(ds)\n"
   ]
  },
  {
   "cell_type": "code",
   "execution_count": 34,
   "metadata": {},
   "outputs": [
    {
     "name": "stdout",
     "output_type": "stream",
     "text": [
      "Experiment_number\n",
      "2017_1     105\n",
      "2017_10    100\n",
      "2017_11    102\n",
      "2017_12    102\n",
      "2017_14     98\n",
      "2017_15    104\n",
      "2017_16    102\n",
      "2017_17    101\n",
      "2017_18    107\n",
      "2017_2     105\n",
      "2017_20     94\n",
      "2017_3     102\n",
      "2017_4     101\n",
      "2017_5     102\n",
      "2017_6     100\n",
      "2017_7      99\n",
      "2017_8     101\n",
      "2017_9     101\n",
      "2018_1     103\n",
      "2018_2     103\n",
      "2018_3     113\n",
      "2018_4     102\n",
      "2018_5     112\n",
      "2018_6     405\n",
      "Name: fish_number, dtype: int64\n",
      "6 Experiment_number\n",
      "2017_10    100\n",
      "2017_17    101\n",
      "2017_18    107\n",
      "2017_4     101\n",
      "2017_5     102\n",
      "2017_6     100\n",
      "2017_7      99\n",
      "2018_2     103\n",
      "2018_3     113\n",
      "2018_4     102\n",
      "2018_5     112\n",
      "Name: fish_number, dtype: int64\n",
      "12 Experiment_number\n",
      "2017_1     105\n",
      "2017_11    102\n",
      "2017_12    102\n",
      "2017_14     98\n",
      "2017_15    104\n",
      "2017_16    102\n",
      "2017_2     105\n",
      "2017_20     94\n",
      "2017_3     102\n",
      "2017_8     101\n",
      "2017_9     101\n",
      "2018_1     103\n",
      "Name: fish_number, dtype: int64\n",
      "18 Experiment_number\n",
      "2018_6    405\n",
      "Name: fish_number, dtype: int64\n"
     ]
    }
   ],
   "source": [
    "#get some info about the data\n",
    "#print out number of fish per experiment for table on data\n",
    "print(ds.groupby('Experiment_number').fish_number.max())\n",
    "cond_6 = (ds.height_difference<8)  #6\" jumps\n",
    "cond_12 = (ds.height_difference>8) & (ds.height_difference<14)  #12\" jumps\n",
    "cond_18 = (ds.height_difference>14)  #18\" jumps\n",
    "subset = ds[cond_6]\n",
    "print('6',subset.groupby('Experiment_number').fish_number.max())\n",
    "subset = ds[cond_12]\n",
    "print('12',subset.groupby('Experiment_number').fish_number.max())\n",
    "subset = ds[cond_18]\n",
    "print('18',subset.groupby('Experiment_number').fish_number.max())\n"
   ]
  },
  {
   "cell_type": "code",
   "execution_count": 35,
   "metadata": {},
   "outputs": [
    {
     "name": "stdout",
     "output_type": "stream",
     "text": [
      "<class 'pandas.core.frame.DataFrame'>\n"
     ]
    }
   ],
   "source": [
    "cond_lower = (ds.successful_jump==0)   # stayed in lower pool, unsuccessful jumper\n",
    "cond_upper = (ds.successful_jump==1)  #made it to upper pool\n",
    "subset_upper = ds[cond_upper]\n",
    "subset_lower = ds[cond_lower]\n",
    "print(type(ds))"
   ]
  },
  {
   "cell_type": "code",
   "execution_count": 36,
   "metadata": {},
   "outputs": [
    {
     "name": "stderr",
     "output_type": "stream",
     "text": [
      "C:\\Users\\gentemann\\Anaconda3\\lib\\site-packages\\matplotlib\\axes\\_axes.py:6462: UserWarning: The 'normed' kwarg is deprecated, and has been replaced by the 'density' kwarg.\n",
      "  warnings.warn(\"The 'normed' kwarg is deprecated, and has been \"\n"
     ]
    },
    {
     "data": {
      "image/png": "[encoded data removed]",
      "text/plain": [
       "<Figure size 432x288 with 1 Axes>"
      ]
     },
     "metadata": {},
     "output_type": "display_data"
    }
   ],
   "source": [
    "# the histogram of the data\n",
    "fig = plt.figure()\n",
    "n, bins, patches = plt.hist(subset_lower.k_factor, 50, normed=1, facecolor='g', alpha=0.75)\n",
    "plt.xlabel('k_factor')\n",
    "plt.ylabel('Probability')\n",
    "plt.title('Histogram of k_factor')\n",
    "#plt.text(60, .025, r'$\\mu=100,\\ \\sigma=15$')\n",
    "plt.axis([0, 2, 0, 0.03])\n",
    "#plt.grid(True)\n",
    "fig.savefig(adir+'hist.png', dpi=300)"
   ]
  },
  {
   "cell_type": "code",
   "execution_count": 93,
   "metadata": {},
   "outputs": [
    {
     "data": {
      "image/png": "[encoded data removed]",
      "text/plain": [
       "<Figure size 432x288 with 1 Axes>"
      ]
     },
     "metadata": {},
     "output_type": "display_data"
    }
   ],
   "source": [
    "#plot all fish\n",
    "cond_lower = (ds.successful_jump==0)   # stayed in lower pool, unsuccessful jumper\n",
    "cond_upper = (ds.successful_jump==1)  #made it to upper pool\n",
    "subset_upper = ds[cond_upper]\n",
    "subset_lower = ds[cond_lower]\n",
    "fig = plt.figure()\n",
    "h=plt.scatter(subset_lower.length,subset_lower.weight,color='r',marker='.',s=12,label=\"lower\")\n",
    "h=plt.scatter(subset_upper.length,subset_upper.weight,color='k',marker='.',s=12,label=\"upper\")\n",
    "plt.axis([0, 130,0, 15])\n",
    "plt.ylabel('Weight (g)')\n",
    "plt.xlabel('Length (mm)')\n",
    "plt.legend()\n",
    "fig.savefig(adir+'all_scatter.png', dpi=300)"
   ]
  },
  {
   "cell_type": "code",
   "execution_count": 94,
   "metadata": {},
   "outputs": [
    {
     "data": {
      "image/png": "[encoded data removed]",
      "text/plain": [
       "<Figure size 432x288 with 1 Axes>"
      ]
     },
     "metadata": {},
     "output_type": "display_data"
    }
   ],
   "source": [
    "#6\" jumps\n",
    "cond_lower = ((ds.successful_jump==0) & (ds.height_difference<10))  # stayed in lower pool, unsuccessful jumper\n",
    "cond_upper = ((ds.successful_jump==1) & (ds.height_difference<10)) #made it to upper pool\n",
    "subset_upper = ds[cond_upper]\n",
    "subset_lower = ds[cond_lower]\n",
    "fig = plt.figure()\n",
    "h=plt.scatter(subset_lower.length,subset_lower.weight,color='r',marker='.',s=12,label=\"lower\")\n",
    "h=plt.scatter(subset_upper.length,subset_upper.weight,color='k',marker='.',s=12,label=\"upper\")\n",
    "plt.axis([0, 130,0, 15])\n",
    "plt.ylabel('Weight (g)')\n",
    "plt.xlabel('Length (mm)')\n",
    "plt.legend()\n",
    "fig.savefig(adir+'six_scatter.png', dpi=300)"
   ]
  },
  {
   "cell_type": "code",
   "execution_count": 96,
   "metadata": {},
   "outputs": [
    {
     "data": {
      "image/png": "[encoded data removed]",
      "text/plain": [
       "<Figure size 432x288 with 1 Axes>"
      ]
     },
     "metadata": {},
     "output_type": "display_data"
    }
   ],
   "source": [
    "#12\" jumps\n",
    "cond_lower = ((ds.successful_jump==0) & (ds.height_difference>9) & (ds.height_difference<15))  # stayed in lower pool, unsuccessful jumper\n",
    "cond_upper = ((ds.successful_jump==1) & (ds.height_difference>9) & (ds.height_difference<15)) #made it to upper pool\n",
    "subset_upper = ds[cond_upper]\n",
    "subset_lower = ds[cond_lower]\n",
    "fig = plt.figure()\n",
    "h=plt.scatter(subset_lower.length,subset_lower.weight,color='r',marker='.',s=12,label=\"lower\")\n",
    "h=plt.scatter(subset_upper.length,subset_upper.weight,color='k',marker='.',s=12,label=\"upper\")\n",
    "plt.axis([0, 130,0, 15])\n",
    "plt.ylabel('Weight (g)')\n",
    "plt.xlabel('Length (mm)')\n",
    "plt.legend()\n",
    "fig.savefig(adir+'twelve_scatter.png', dpi=300)"
   ]
  },
  {
   "cell_type": "code",
   "execution_count": 97,
   "metadata": {},
   "outputs": [
    {
     "data": {
      "image/png": "[encoded data removed]",
      "text/plain": [
       "<Figure size 432x288 with 1 Axes>"
      ]
     },
     "metadata": {},
     "output_type": "display_data"
    }
   ],
   "source": [
    "#12\" jumps\n",
    "cond_lower = ((ds.successful_jump==0) & (ds.height_difference>15))  # stayed in lower pool, unsuccessful jumper\n",
    "cond_upper = ((ds.successful_jump==1) & (ds.height_difference>15)) #made it to upper pool\n",
    "subset_upper = ds[cond_upper]\n",
    "subset_lower = ds[cond_lower]\n",
    "fig = plt.figure()\n",
    "h=plt.scatter(subset_lower.length,subset_lower.weight,color='r',marker='.',s=12,label=\"lower\")\n",
    "h=plt.scatter(subset_upper.length,subset_upper.weight,color='k',marker='.',s=12,label=\"upper\")\n",
    "plt.axis([0, 130,0, 15])\n",
    "plt.ylabel('Weight (g)')\n",
    "plt.xlabel('Length (mm)')\n",
    "plt.legend()\n",
    "fig.savefig(adir+'eighteen_scatter.png', dpi=300)"
   ]
  },
  {
   "cell_type": "code",
   "execution_count": 82,
   "metadata": {},
   "outputs": [
    {
     "data": {
      "text/plain": [
       "Index(['Experiment_number', 'start_time', 'species', 'total_time',\n",
       "       'water_temperature', 'dissolved_oxygen', 'upper_pool_depth',\n",
       "       'lower_pool_depth', 'depth_over_wier', 'flow_rate', 'height_difference',\n",
       "       'fish_number', 'length', 'weight', 'successful_jump', 'k_factor',\n",
       "       'weir_type'],\n",
       "      dtype='object')"
      ]
     },
     "execution_count": 82,
     "metadata": {},
     "output_type": "execute_result"
    }
   ],
   "source": [
    "ds.columns"
   ]
  },
  {
   "cell_type": "code",
   "execution_count": 87,
   "metadata": {},
   "outputs": [],
   "source": []
  },
  {
   "cell_type": "code",
   "execution_count": 90,
   "metadata": {},
   "outputs": [
    {
     "name": "stdout",
     "output_type": "stream",
     "text": [
      "0.7713458755426917\n"
     ]
    }
   ],
   "source": [
    "x = ds.iloc[:,12:14].values\n",
    "y= ds.iloc[:,14].values\n",
    "# Split the data into Training and Testing set\n",
    "from sklearn.cross_validation import train_test_split\n",
    "x_train,x_test,y_train,y_test = train_test_split(x,y,test_size=0.25,random_state=0)\n",
    "# Feature scaling\n",
    "from sklearn.preprocessing import StandardScaler\n",
    "sc = StandardScaler()\n",
    "x_train = sc.fit_transform(x_train)\n",
    "x_test = sc.fit_transform(x_test)\n",
    "#Fitting logistic regression to the training set\n",
    "from sklearn.linear_model import LogisticRegression\n",
    "classifier = LogisticRegression(random_state = 0)\n",
    "classifier.fit(x_train,y_train)\n",
    "# Predicting the Test set results\n",
    "y_pred = classifier.predict(x_test)\n",
    "# Making the confusion matrix \n",
    "from sklearn.metrics import confusion_matrix\n",
    "cm = confusion_matrix(y_test,y_pred)\n",
    "from sklearn import metrics\n",
    "print (metrics.accuracy_score(y_test,classifier.predict(x_test)))"
   ]
  },
  {
   "cell_type": "code",
   "execution_count": 92,
   "metadata": {},
   "outputs": [
    {
     "data": {
      "text/plain": [
       "array([[452,  48],\n",
       "       [110,  81]], dtype=int64)"
      ]
     },
     "execution_count": 92,
     "metadata": {},
     "output_type": "execute_result"
    }
   ],
   "source": [
    "cm"
   ]
  },
  {
   "cell_type": "code",
   "execution_count": null,
   "metadata": {},
   "outputs": [],
   "source": []
  }
 ],
 "metadata": {
  "kernelspec": {
   "display_name": "Python 3",
   "language": "python",
   "name": "python3"
  },
  "language_info": {
   "codemirror_mode": {
    "name": "ipython",
    "version": 3
   },
   "file_extension": ".py",
   "mimetype": "text/x-python",
   "name": "python",
   "nbconvert_exporter": "python",
   "pygments_lexer": "ipython3",
   "version": "3.5.5"
  }
 },
 "nbformat": 4,
 "nbformat_minor": 2
}
