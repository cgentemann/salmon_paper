{
 "cells": [
  {
   "cell_type": "code",
   "execution_count": 4,
   "metadata": {},
   "outputs": [],
   "source": [
    "#import libraries\n",
    "import pandas as pd\n",
    "import matplotlib.pyplot as plt\n",
    "import numpy as np\n",
    "\n",
    "#subroutine to read in all experiments from single excel file\n",
    "def readData(fname):\n",
    "    xl = pd.ExcelFile(fname)\n",
    "    sheet_names = xl.sheet_names #)  # see all sheet names\n",
    "    #print(sheet_names)\n",
    "    istart=0\n",
    "    for sheet_name in sheet_names:\n",
    "        if sheet_name=='Metadata':\n",
    "            continue\n",
    "        ds1 = xl.parse(sheet_name,header=0,skiprows=1)\n",
    "        if istart==0:\n",
    "            ds=ds1\n",
    "            istart=1\n",
    "        else:\n",
    "            ds=pd.concat([ds,ds1]) #ds.append(ds1)\n",
    "        #print(type(ds1))\n",
    "        #print(type(ds))\n",
    "        print(sheet_name,len(ds))\n",
    "    return ds\n"
   ]
  },
  {
   "cell_type": "code",
   "execution_count": 6,
   "metadata": {},
   "outputs": [
    {
     "name": "stdout",
     "output_type": "stream",
     "text": [
      "2014_2 101\n",
      "2014_3 198\n",
      "2014_4 289\n",
      "2014_5 390\n",
      "2014_6 491\n",
      "2014_7 590\n",
      "2014_8 689\n",
      "2014_9 792\n",
      "2014_10 903\n",
      "2014_12 1003\n",
      "2014_13 1107\n",
      "2014_14 1206\n",
      "2014_15 1306\n",
      "2014_16 1408\n",
      "2014_17 1509\n",
      "2014_18 1609\n",
      "2014_19 1710\n",
      "2014_20 1810\n",
      "2014_21 1910\n",
      "2014_22 2010\n",
      "2014_23 2111\n",
      "2014_24 2211\n",
      "2014_25 2308\n",
      "2014_26 2407\n",
      "2014_27 2507\n",
      "2014_28 2606\n",
      "2017_1 2711\n",
      "2017_2 2816\n",
      "2017_3 2918\n",
      "2017_4 3019\n",
      "2017_5 3121\n",
      "2017_6 3221\n",
      "2017_7 3320\n",
      "2017_8 3421\n",
      "2017_9 3522\n",
      "2017_10 3622\n",
      "2017_11 3724\n",
      "2017_12 3826\n",
      "2017_14 3924\n",
      "2017_15 4028\n",
      "2017_16 4130\n",
      "2017_17 4231\n",
      "2017_18 4338\n",
      "2017_20 4432\n",
      "2018_1 4535\n",
      "2018_2 4638\n",
      "2018_3 4751\n",
      "2018_4 4853\n",
      "2018_5 4965\n",
      "2018_6 5370\n"
     ]
    }
   ],
   "source": [
    "adir = 'C:/Users/gentemann/Google Drive/f_drive/docs/papers/in_prep/2018dave/'\n",
    "file = adir + 'Master_Data_Jump_Test_2014_2017_2018.xlsx' #'Duplicate_Master_Data_Jump_Test_2014_2017_2018.xlsx'\n",
    "ds = readData(file)\n",
    "df = pd.DataFrame(ds)\n"
   ]
  },
  {
   "cell_type": "code",
   "execution_count": 7,
   "metadata": {},
   "outputs": [
    {
     "data": {
      "text/html": [
       "<div>\n",
       "<style scoped>\n",
       "    .dataframe tbody tr th:only-of-type {\n",
       "        vertical-align: middle;\n",
       "    }\n",
       "\n",
       "    .dataframe tbody tr th {\n",
       "        vertical-align: top;\n",
       "    }\n",
       "\n",
       "    .dataframe thead th {\n",
       "        text-align: right;\n",
       "    }\n",
       "</style>\n",
       "<table border=\"1\" class=\"dataframe\">\n",
       "  <thead>\n",
       "    <tr style=\"text-align: right;\">\n",
       "      <th></th>\n",
       "      <th>Experiment_number</th>\n",
       "      <th>start_time</th>\n",
       "      <th>species</th>\n",
       "      <th>total_time</th>\n",
       "      <th>water_temperature</th>\n",
       "      <th>dissolved_oxygen</th>\n",
       "      <th>upper_pool_depth</th>\n",
       "      <th>lower_pool_depth</th>\n",
       "      <th>depth_over_wier</th>\n",
       "      <th>flow_rate</th>\n",
       "      <th>height_difference</th>\n",
       "      <th>fish_number</th>\n",
       "      <th>length</th>\n",
       "      <th>weight</th>\n",
       "      <th>successful_jump</th>\n",
       "      <th>k_factor</th>\n",
       "      <th>weir_type</th>\n",
       "    </tr>\n",
       "  </thead>\n",
       "  <tbody>\n",
       "    <tr>\n",
       "      <th>0</th>\n",
       "      <td>2014_2</td>\n",
       "      <td>20140702T191500Z</td>\n",
       "      <td>steelhead</td>\n",
       "      <td>24.0</td>\n",
       "      <td>12.4</td>\n",
       "      <td>10.6</td>\n",
       "      <td>23.0</td>\n",
       "      <td>11.5</td>\n",
       "      <td>1.75</td>\n",
       "      <td>0</td>\n",
       "      <td>11.5</td>\n",
       "      <td>1</td>\n",
       "      <td>70</td>\n",
       "      <td>4.05</td>\n",
       "      <td>1</td>\n",
       "      <td>1.180758</td>\n",
       "      <td>12_narrow_flat</td>\n",
       "    </tr>\n",
       "    <tr>\n",
       "      <th>1</th>\n",
       "      <td>2014_2</td>\n",
       "      <td>20140702T191500Z</td>\n",
       "      <td>steelhead</td>\n",
       "      <td>24.0</td>\n",
       "      <td>12.4</td>\n",
       "      <td>10.6</td>\n",
       "      <td>23.0</td>\n",
       "      <td>11.5</td>\n",
       "      <td>1.75</td>\n",
       "      <td>0</td>\n",
       "      <td>11.5</td>\n",
       "      <td>2</td>\n",
       "      <td>77</td>\n",
       "      <td>5.82</td>\n",
       "      <td>1</td>\n",
       "      <td>1.274826</td>\n",
       "      <td>12_narrow_flat</td>\n",
       "    </tr>\n",
       "    <tr>\n",
       "      <th>2</th>\n",
       "      <td>2014_2</td>\n",
       "      <td>20140702T191500Z</td>\n",
       "      <td>steelhead</td>\n",
       "      <td>24.0</td>\n",
       "      <td>12.4</td>\n",
       "      <td>10.6</td>\n",
       "      <td>23.0</td>\n",
       "      <td>11.5</td>\n",
       "      <td>1.75</td>\n",
       "      <td>0</td>\n",
       "      <td>11.5</td>\n",
       "      <td>3</td>\n",
       "      <td>78</td>\n",
       "      <td>5.61</td>\n",
       "      <td>1</td>\n",
       "      <td>1.182168</td>\n",
       "      <td>12_narrow_flat</td>\n",
       "    </tr>\n",
       "    <tr>\n",
       "      <th>3</th>\n",
       "      <td>2014_2</td>\n",
       "      <td>20140702T191500Z</td>\n",
       "      <td>steelhead</td>\n",
       "      <td>24.0</td>\n",
       "      <td>12.4</td>\n",
       "      <td>10.6</td>\n",
       "      <td>23.0</td>\n",
       "      <td>11.5</td>\n",
       "      <td>1.75</td>\n",
       "      <td>0</td>\n",
       "      <td>11.5</td>\n",
       "      <td>4</td>\n",
       "      <td>79</td>\n",
       "      <td>5.92</td>\n",
       "      <td>1</td>\n",
       "      <td>1.200716</td>\n",
       "      <td>12_narrow_flat</td>\n",
       "    </tr>\n",
       "    <tr>\n",
       "      <th>4</th>\n",
       "      <td>2014_2</td>\n",
       "      <td>20140702T191500Z</td>\n",
       "      <td>steelhead</td>\n",
       "      <td>24.0</td>\n",
       "      <td>12.4</td>\n",
       "      <td>10.6</td>\n",
       "      <td>23.0</td>\n",
       "      <td>11.5</td>\n",
       "      <td>1.75</td>\n",
       "      <td>0</td>\n",
       "      <td>11.5</td>\n",
       "      <td>5</td>\n",
       "      <td>72</td>\n",
       "      <td>4.43</td>\n",
       "      <td>1</td>\n",
       "      <td>1.186878</td>\n",
       "      <td>12_narrow_flat</td>\n",
       "    </tr>\n",
       "  </tbody>\n",
       "</table>\n",
       "</div>"
      ],
      "text/plain": [
       "  Experiment_number        start_time    species  total_time  \\\n",
       "0            2014_2  20140702T191500Z  steelhead        24.0   \n",
       "1            2014_2  20140702T191500Z  steelhead        24.0   \n",
       "2            2014_2  20140702T191500Z  steelhead        24.0   \n",
       "3            2014_2  20140702T191500Z  steelhead        24.0   \n",
       "4            2014_2  20140702T191500Z  steelhead        24.0   \n",
       "\n",
       "   water_temperature  dissolved_oxygen  upper_pool_depth  lower_pool_depth  \\\n",
       "0               12.4              10.6              23.0              11.5   \n",
       "1               12.4              10.6              23.0              11.5   \n",
       "2               12.4              10.6              23.0              11.5   \n",
       "3               12.4              10.6              23.0              11.5   \n",
       "4               12.4              10.6              23.0              11.5   \n",
       "\n",
       "   depth_over_wier  flow_rate  height_difference  fish_number  length  weight  \\\n",
       "0             1.75          0               11.5            1      70    4.05   \n",
       "1             1.75          0               11.5            2      77    5.82   \n",
       "2             1.75          0               11.5            3      78    5.61   \n",
       "3             1.75          0               11.5            4      79    5.92   \n",
       "4             1.75          0               11.5            5      72    4.43   \n",
       "\n",
       "   successful_jump  k_factor       weir_type  \n",
       "0                1  1.180758  12_narrow_flat  \n",
       "1                1  1.274826  12_narrow_flat  \n",
       "2                1  1.182168  12_narrow_flat  \n",
       "3                1  1.200716  12_narrow_flat  \n",
       "4                1  1.186878  12_narrow_flat  "
      ]
     },
     "execution_count": 7,
     "metadata": {},
     "output_type": "execute_result"
    }
   ],
   "source": [
    "df.head()"
   ]
  },
  {
   "cell_type": "code",
   "execution_count": 8,
   "metadata": {},
   "outputs": [
    {
     "name": "stdout",
     "output_type": "stream",
     "text": [
      "Experiment_number\n",
      "2014_10    111\n",
      "2014_12    100\n",
      "2014_13    104\n",
      "2014_14     99\n",
      "2014_15    100\n",
      "2014_16    102\n",
      "2014_17    101\n",
      "2014_18    100\n",
      "2014_19    101\n",
      "2014_2     101\n",
      "2014_20    100\n",
      "2014_21    100\n",
      "2014_22    100\n",
      "2014_23    101\n",
      "2014_24    100\n",
      "2014_25     97\n",
      "2014_26     99\n",
      "2014_27    100\n",
      "2014_28     99\n",
      "2014_3      97\n",
      "2014_4      91\n",
      "2014_5     101\n",
      "2014_6     101\n",
      "2014_7      99\n",
      "2014_8      99\n",
      "2014_9     103\n",
      "2017_1     105\n",
      "2017_10    100\n",
      "2017_11    102\n",
      "2017_12    102\n",
      "2017_14     98\n",
      "2017_15    104\n",
      "2017_16    102\n",
      "2017_17    101\n",
      "2017_18    107\n",
      "2017_2     105\n",
      "2017_20     94\n",
      "2017_3     102\n",
      "2017_4     101\n",
      "2017_5     102\n",
      "2017_6     100\n",
      "2017_7      99\n",
      "2017_8     101\n",
      "2017_9     101\n",
      "2018_1     103\n",
      "2018_2     103\n",
      "2018_3     113\n",
      "2018_4     102\n",
      "2018_5     112\n",
      "2018_6     405\n",
      "Name: fish_number, dtype: int64\n",
      "6 Experiment_number\n",
      "2014_16    102\n",
      "2014_17    101\n",
      "2014_20    100\n",
      "2014_26     99\n",
      "2014_27    100\n",
      "2014_28     99\n",
      "2014_7      99\n",
      "2014_8      99\n",
      "2014_9     103\n",
      "2017_10    100\n",
      "2017_17    101\n",
      "2017_18    107\n",
      "2017_4     101\n",
      "2017_5     102\n",
      "2017_6     100\n",
      "2017_7      99\n",
      "2018_2     103\n",
      "2018_3     113\n",
      "2018_4     102\n",
      "2018_5     112\n",
      "Name: fish_number, dtype: int64\n",
      "12 Experiment_number\n",
      "2014_10    111\n",
      "2014_12    100\n",
      "2014_13    104\n",
      "2014_14     99\n",
      "2014_15    100\n",
      "2014_18    100\n",
      "2014_19    101\n",
      "2014_2     101\n",
      "2014_21    100\n",
      "2014_22    100\n",
      "2014_23    101\n",
      "2014_24    100\n",
      "2014_25     97\n",
      "2014_3      97\n",
      "2014_4      91\n",
      "2014_5     101\n",
      "2014_6     101\n",
      "2017_1     105\n",
      "2017_11    102\n",
      "2017_12    102\n",
      "2017_14     98\n",
      "2017_15    104\n",
      "2017_16    102\n",
      "2017_2     105\n",
      "2017_20     94\n",
      "2017_3     102\n",
      "2017_8     101\n",
      "2017_9     101\n",
      "2018_1     103\n",
      "Name: fish_number, dtype: int64\n",
      "18 Experiment_number\n",
      "2018_6    405\n",
      "Name: fish_number, dtype: int64\n"
     ]
    }
   ],
   "source": [
    "#get some info about the data\n",
    "#print out number of fish per experiment for table on data\n",
    "print(ds.groupby('Experiment_number').fish_number.max())\n",
    "cond_6 = (ds.height_difference<8)  #6\" jumps\n",
    "cond_12 = (ds.height_difference>8) & (ds.height_difference<15)  #12\" jumps\n",
    "cond_18 = (ds.height_difference>15)  #18\" jumps\n",
    "subset = ds[cond_6]\n",
    "print('6',subset.groupby('Experiment_number').fish_number.max())\n",
    "subset = ds[cond_12]\n",
    "print('12',subset.groupby('Experiment_number').fish_number.max())\n",
    "subset = ds[cond_18]\n",
    "print('18',subset.groupby('Experiment_number').fish_number.max())\n"
   ]
  },
  {
   "cell_type": "code",
   "execution_count": null,
   "metadata": {},
   "outputs": [],
   "source": []
  },
  {
   "cell_type": "code",
   "execution_count": null,
   "metadata": {},
   "outputs": [],
   "source": []
  },
  {
   "cell_type": "code",
   "execution_count": 9,
   "metadata": {},
   "outputs": [],
   "source": [
    "# the histogram of the data\n",
    "#fig = plt.figure()\n",
    "#n, bins, patches = plt.hist(subset_lower.k_factor, 50, normed=1, facecolor='g', alpha=0.75)\n",
    "#plt.xlabel('k_factor')\n",
    "#plt.ylabel('Probability')\n",
    "#plt.title('Histogram of k_factor')\n",
    "#plt.text(60, .025, r'$\\mu=100,\\ \\sigma=15$')\n",
    "#plt.axis([0, 2, 0, 0.03])\n",
    "#plt.grid(True)\n",
    "#fig.savefig(adir+'hist.png', dpi=300)"
   ]
  },
  {
   "cell_type": "code",
   "execution_count": 25,
   "metadata": {},
   "outputs": [
    {
     "data": {
      "image/png": "[encoded data removed]",
      "text/plain": [
       "<Figure size 432x288 with 1 Axes>"
      ]
     },
     "metadata": {
      "needs_background": "light"
     },
     "output_type": "display_data"
    }
   ],
   "source": [
    "#plot all fish\n",
    "cond_lower = (ds.successful_jump==0)   # stayed in lower pool, unsuccessful jumper\n",
    "cond_upper = (ds.successful_jump==1)  #made it to upper pool\n",
    "subset_upper = ds[cond_upper]\n",
    "subset_lower = ds[cond_lower]\n",
    "fig = plt.figure()\n",
    "h=plt.scatter(subset_lower.length,subset_lower.weight,color='r',marker='.',s=12,label=\"lower\")\n",
    "h=plt.scatter(subset_upper.length,subset_upper.weight,color='k',marker='.',s=12,label=\"upper\")\n",
    "plt.axis([0, 200,0, 60])\n",
    "plt.ylabel('Weight (g)')\n",
    "plt.xlabel('Length (mm)')\n",
    "plt.legend()\n",
    "fig.savefig(adir+'all_scatter.png', dpi=300)"
   ]
  },
  {
   "cell_type": "code",
   "execution_count": 11,
   "metadata": {},
   "outputs": [
    {
     "data": {
      "image/png": "[encoded data removed]",
      "text/plain": [
       "<Figure size 432x288 with 1 Axes>"
      ]
     },
     "metadata": {
      "needs_background": "light"
     },
     "output_type": "display_data"
    }
   ],
   "source": [
    "#6\" jumps\n",
    "#cond_lower = ((ds.successful_jump==0) & (ds.height_difference<10))  # stayed in lower pool, unsuccessful jumper\n",
    "#cond_upper = ((ds.successful_jump==1) & (ds.height_difference<10)) #made it to upper pool\n",
    "cond_lower = ((ds.successful_jump==0) & cond_6)  # stayed in lower pool, unsuccessful jumper\n",
    "cond_upper = ((ds.successful_jump==1) & cond_6) #made it to upper pool\n",
    "subset_upper = ds[cond_upper]\n",
    "subset_lower = ds[cond_lower]\n",
    "fig = plt.figure()\n",
    "h=plt.scatter(subset_lower.length,subset_lower.weight,color='r',marker='.',s=12,label=\"lower\")\n",
    "h=plt.scatter(subset_upper.length,subset_upper.weight,color='k',marker='.',s=12,label=\"upper\")\n",
    "plt.axis([0, 200,0, 70])\n",
    "plt.ylabel('Weight (g)')\n",
    "plt.xlabel('Length (mm)')\n",
    "plt.legend()\n",
    "fig.savefig(adir+'six_scatter.png', dpi=300)"
   ]
  },
  {
   "cell_type": "code",
   "execution_count": 12,
   "metadata": {},
   "outputs": [
    {
     "data": {
      "image/png": "[encoded data removed]",
      "text/plain": [
       "<Figure size 432x288 with 1 Axes>"
      ]
     },
     "metadata": {
      "needs_background": "light"
     },
     "output_type": "display_data"
    }
   ],
   "source": [
    "#12\" jumps\n",
    "cond_lower = ((ds.successful_jump==0) & cond_12)  # stayed in lower pool, unsuccessful jumper\n",
    "cond_upper = ((ds.successful_jump==1) & cond_12) #made it to upper pool\n",
    "subset_upper = ds[cond_upper]\n",
    "subset_lower = ds[cond_lower]\n",
    "fig = plt.figure()\n",
    "h=plt.scatter(subset_lower.length,subset_lower.weight,color='r',marker='.',s=12,label=\"lower\")\n",
    "h=plt.scatter(subset_upper.length,subset_upper.weight,color='k',marker='.',s=12,label=\"upper\")\n",
    "plt.axis([0, 200,0, 70])\n",
    "plt.ylabel('Weight (g)')\n",
    "plt.xlabel('Length (mm)')\n",
    "plt.legend()\n",
    "fig.savefig(adir+'twelve_scatter.png', dpi=300)"
   ]
  },
  {
   "cell_type": "code",
   "execution_count": 13,
   "metadata": {},
   "outputs": [
    {
     "name": "stdout",
     "output_type": "stream",
     "text": [
      "405\n",
      "188 65.72\n"
     ]
    },
    {
     "data": {
      "image/png": "[encoded data removed]",
      "text/plain": [
       "<Figure size 432x288 with 1 Axes>"
      ]
     },
     "metadata": {
      "needs_background": "light"
     },
     "output_type": "display_data"
    }
   ],
   "source": [
    "#12\" jumps\n",
    "cond_lower = ((ds.successful_jump==0) & cond_18)  # stayed in lower pool, unsuccessful jumper\n",
    "cond_upper = ((ds.successful_jump==1) & cond_18) #made it to upper pool\n",
    "subset_upper = ds[cond_upper]\n",
    "subset_lower = ds[cond_lower]\n",
    "fig = plt.figure()\n",
    "h=plt.scatter(subset_lower.length,subset_lower.weight,color='r',marker='.',s=12,label=\"lower\")\n",
    "h=plt.scatter(subset_upper.length,subset_upper.weight,color='k',marker='.',s=12,label=\"upper\")\n",
    "plt.axis([0, 200,0, 70])\n",
    "plt.ylabel('Weight (g)')\n",
    "plt.xlabel('Length (mm)')\n",
    "plt.legend()\n",
    "fig.savefig(adir+'eighteen_scatter.png', dpi=300)\n",
    "print(cond_lower.sum()+cond_upper.sum())\n",
    "print(ds.length.max(),ds.weight.max())"
   ]
  },
  {
   "cell_type": "code",
   "execution_count": 14,
   "metadata": {},
   "outputs": [
    {
     "name": "stdout",
     "output_type": "stream",
     "text": [
      "['Experiment_number', 'start_time', 'species', 'total_time', 'water_temperature', 'dissolved_oxygen', 'upper_pool_depth', 'lower_pool_depth', 'depth_over_wier', 'flow_rate', 'height_difference', 'fish_number', 'length', 'weight', 'successful_jump', 'k_factor', 'weir_type']\n"
     ]
    },
    {
     "data": {
      "text/html": [
       "<div>\n",
       "<style scoped>\n",
       "    .dataframe tbody tr th:only-of-type {\n",
       "        vertical-align: middle;\n",
       "    }\n",
       "\n",
       "    .dataframe tbody tr th {\n",
       "        vertical-align: top;\n",
       "    }\n",
       "\n",
       "    .dataframe thead th {\n",
       "        text-align: right;\n",
       "    }\n",
       "</style>\n",
       "<table border=\"1\" class=\"dataframe\">\n",
       "  <thead>\n",
       "    <tr style=\"text-align: right;\">\n",
       "      <th></th>\n",
       "      <th>length</th>\n",
       "      <th>k_factor</th>\n",
       "      <th>successful_jump</th>\n",
       "    </tr>\n",
       "  </thead>\n",
       "  <tbody>\n",
       "    <tr>\n",
       "      <th>0</th>\n",
       "      <td>70</td>\n",
       "      <td>1.180758</td>\n",
       "      <td>1</td>\n",
       "    </tr>\n",
       "    <tr>\n",
       "      <th>1</th>\n",
       "      <td>77</td>\n",
       "      <td>1.274826</td>\n",
       "      <td>1</td>\n",
       "    </tr>\n",
       "    <tr>\n",
       "      <th>2</th>\n",
       "      <td>78</td>\n",
       "      <td>1.182168</td>\n",
       "      <td>1</td>\n",
       "    </tr>\n",
       "    <tr>\n",
       "      <th>3</th>\n",
       "      <td>79</td>\n",
       "      <td>1.200716</td>\n",
       "      <td>1</td>\n",
       "    </tr>\n",
       "    <tr>\n",
       "      <th>4</th>\n",
       "      <td>72</td>\n",
       "      <td>1.186878</td>\n",
       "      <td>1</td>\n",
       "    </tr>\n",
       "  </tbody>\n",
       "</table>\n",
       "</div>"
      ],
      "text/plain": [
       "   length  k_factor  successful_jump\n",
       "0      70  1.180758                1\n",
       "1      77  1.274826                1\n",
       "2      78  1.182168                1\n",
       "3      79  1.200716                1\n",
       "4      72  1.186878                1"
      ]
     },
     "execution_count": 14,
     "metadata": {},
     "output_type": "execute_result"
    }
   ],
   "source": [
    "cols = df.columns.tolist()\n",
    "print(cols)\n",
    "cols_reorder = cols[12:13] + cols[15:16] + cols[14:15]\n",
    "df_reorder=df[cols_reorder]\n",
    "df_reorder.head()"
   ]
  },
  {
   "cell_type": "code",
   "execution_count": 28,
   "metadata": {},
   "outputs": [
    {
     "name": "stdout",
     "output_type": "stream",
     "text": [
      "0.7110945644080418\n"
     ]
    },
    {
     "name": "stderr",
     "output_type": "stream",
     "text": [
      "C:\\Users\\gentemann\\Miniconda3\\lib\\site-packages\\sklearn\\utils\\validation.py:590: DataConversionWarning: Data with input dtype int64 was converted to float64 by StandardScaler.\n",
      "  warnings.warn(msg, DataConversionWarning)\n",
      "C:\\Users\\gentemann\\Miniconda3\\lib\\site-packages\\sklearn\\utils\\validation.py:590: DataConversionWarning: Data with input dtype int64 was converted to float64 by StandardScaler.\n",
      "  warnings.warn(msg, DataConversionWarning)\n",
      "C:\\Users\\gentemann\\Miniconda3\\lib\\site-packages\\sklearn\\utils\\validation.py:590: DataConversionWarning: Data with input dtype int64 was converted to float64 by StandardScaler.\n",
      "  warnings.warn(msg, DataConversionWarning)\n",
      "C:\\Users\\gentemann\\Miniconda3\\lib\\site-packages\\sklearn\\utils\\validation.py:590: DataConversionWarning: Data with input dtype int64 was converted to float64 by StandardScaler.\n",
      "  warnings.warn(msg, DataConversionWarning)\n",
      "C:\\Users\\gentemann\\Miniconda3\\lib\\site-packages\\sklearn\\linear_model\\logistic.py:432: FutureWarning: Default solver will be changed to 'lbfgs' in 0.22. Specify a solver to silence this warning.\n",
      "  FutureWarning)\n"
     ]
    }
   ],
   "source": [
    "x = df_reorder.iloc[:,0:1].values  #just length  0.79 accuracy new with all data 0.71\n",
    "#x = df_reorder.iloc[:,1:2].values    #just k-factor  0.71 accuracy new with all data 0.56\n",
    "#x = df_reorder.iloc[:,0:2].values     #both length and k-factor but worried about their correlation  0.78 accuracy, new 0.74\n",
    "y= df_reorder.iloc[:,2].values\n",
    "# Split the data into Training and Testing set\n",
    "#from sklearn.cross_validation import train_test_split\n",
    "from sklearn.model_selection import train_test_split\n",
    "x_train,x_test,y_train,y_test = train_test_split(x,y,test_size=0.25,random_state=0)\n",
    "# Feature scaling\n",
    "from sklearn.preprocessing import StandardScaler\n",
    "sc = StandardScaler()\n",
    "x_train = sc.fit_transform(x_train)\n",
    "x_test = sc.fit_transform(x_test)\n",
    "#Fitting logistic regression to the training set\n",
    "from sklearn.linear_model import LogisticRegression\n",
    "classifier = LogisticRegression(random_state = 0)\n",
    "classifier.fit(x_train,y_train)\n",
    "# Predicting the Test set results\n",
    "y_pred = classifier.predict(x_test)\n",
    "# Making the confusion matrix \n",
    "from sklearn.metrics import confusion_matrix\n",
    "cm = confusion_matrix(y_test,y_pred)\n",
    "from sklearn import metrics\n",
    "print (metrics.accuracy_score(y_test,classifier.predict(x_test)))"
   ]
  },
  {
   "cell_type": "code",
   "execution_count": 29,
   "metadata": {},
   "outputs": [
    {
     "data": {
      "text/plain": [
       "array([[593, 129],\n",
       "       [259, 362]], dtype=int64)"
      ]
     },
     "execution_count": 29,
     "metadata": {},
     "output_type": "execute_result"
    }
   ],
   "source": [
    "cm"
   ]
  },
  {
   "cell_type": "code",
   "execution_count": 17,
   "metadata": {},
   "outputs": [
    {
     "name": "stderr",
     "output_type": "stream",
     "text": [
      "C:\\Users\\gentemann\\Miniconda3\\lib\\site-packages\\ipykernel_launcher.py:14: RuntimeWarning: invalid value encountered in true_divide\n",
      "  \n",
      "C:\\Users\\gentemann\\Miniconda3\\lib\\site-packages\\ipykernel_launcher.py:24: RuntimeWarning: invalid value encountered in true_divide\n",
      "C:\\Users\\gentemann\\Miniconda3\\lib\\site-packages\\ipykernel_launcher.py:34: RuntimeWarning: invalid value encountered in true_divide\n"
     ]
    },
    {
     "data": {
      "image/png": "[encoded data removed]",
      "text/plain": [
       "<Figure size 432x288 with 1 Axes>"
      ]
     },
     "metadata": {
      "needs_background": "light"
     },
     "output_type": "display_data"
    }
   ],
   "source": [
    "#make figure showing prob of successful jump for different jump heights\n",
    "fish_num_cutoff = 5\n",
    "fish_length_int=ds.length.values.astype(int)\n",
    "width_bin=1\n",
    "hbins = np.arange(0,200,width_bin)-.5\n",
    "cond_lower = ((ds.successful_jump==0) & cond_6)  # stayed in lower pool, unsuccessful jumper\n",
    "cond_upper = ((ds.successful_jump==1) & cond_6) #made it to upper pool\n",
    "subset_upper = ds[cond_upper]\n",
    "subset_lower = ds[cond_lower]\n",
    "hist_jump, bin_edges = np.histogram(fish_length_int[cond_upper],bins=hbins)\n",
    "hist_nojump, bin_edges = np.histogram(fish_length_int[cond_lower],bins=hbins)\n",
    "tot_fish = hist_jump + hist_nojump\n",
    "cond_num = (tot_fish < fish_num_cutoff)\n",
    "prob_jump_6 = hist_jump / tot_fish\n",
    "prob_jump_6[cond_num]=np.nan\n",
    "cond_lower = ((ds.successful_jump==0) & cond_12)  # stayed in lower pool, unsuccessful jumper\n",
    "cond_upper = ((ds.successful_jump==1) & cond_12) #made it to upper pool\n",
    "subset_upper = ds[cond_upper]\n",
    "subset_lower = ds[cond_lower]\n",
    "hist_jump, bin_edges = np.histogram(fish_length_int[cond_upper],bins=hbins)\n",
    "hist_nojump, bin_edges = np.histogram(fish_length_int[cond_lower],bins=hbins)\n",
    "tot_fish = hist_jump + hist_nojump\n",
    "cond_num = (tot_fish < fish_num_cutoff)\n",
    "prob_jump_12 = hist_jump / tot_fish\n",
    "prob_jump_12[cond_num]=np.nan\n",
    "cond_lower = ((ds.successful_jump==0) & cond_18)  # stayed in lower pool, unsuccessful jumper\n",
    "cond_upper = ((ds.successful_jump==1) & cond_18) #made it to upper pool\n",
    "subset_upper = ds[cond_upper]\n",
    "subset_lower = ds[cond_lower]\n",
    "hist_jump, bin_edges = np.histogram(fish_length_int[cond_upper],bins=hbins)\n",
    "hist_nojump, bin_edges = np.histogram(fish_length_int[cond_lower],bins=hbins)\n",
    "tot_fish = hist_jump + hist_nojump\n",
    "cond_num = (tot_fish < fish_num_cutoff)\n",
    "prob_jump_18 = hist_jump / tot_fish\n",
    "prob_jump_18[cond_num]=np.nan\n",
    "fig = plt.figure()\n",
    "hfish,hbin2=np.histogram(fish_length_int[cond_6],bins=hbins)\n",
    "plt.bar(bin_edges[:-1],hfish/hfish.max(),width=width_bin, color='r', alpha=0.5)\n",
    "hfish,hbin2=np.histogram(fish_length_int[cond_12],bins=hbins)\n",
    "plt.bar(bin_edges[:-1],hfish/hfish.max(), width=width_bin,color='b', alpha=0.5)\n",
    "hfish,hbin2=np.histogram(fish_length_int[cond_18],bins=hbins)\n",
    "plt.bar(bin_edges[:-1],hfish/hfish.max(),width=width_bin, color='k', alpha=0.5)\n",
    "plt.plot(bin_edges[:-1],prob_jump_6, color='r')\n",
    "plt.plot(bin_edges[:-1],prob_jump_12, color='b')\n",
    "plt.plot(bin_edges[:-1],prob_jump_18, color='k')\n",
    "plt.axis([0, 200,0, 1])\n",
    "plt.ylabel('Probability Successful Jump (%)')\n",
    "plt.xlabel('Length (mm)')\n",
    "plt.text(10,.9,'6\" jump',color='r')\n",
    "plt.text(10,.84,'12\" jump',color='b')\n",
    "plt.text(10,.78,'18\" jump',color='k')\n",
    "fig.savefig(adir+'prob_1mmbins.png', dpi=300)\n",
    "    "
   ]
  },
  {
   "cell_type": "code",
   "execution_count": 18,
   "metadata": {},
   "outputs": [
    {
     "name": "stderr",
     "output_type": "stream",
     "text": [
      "C:\\Users\\gentemann\\Miniconda3\\lib\\site-packages\\ipykernel_launcher.py:14: RuntimeWarning: invalid value encountered in true_divide\n",
      "  \n",
      "C:\\Users\\gentemann\\Miniconda3\\lib\\site-packages\\ipykernel_launcher.py:24: RuntimeWarning: invalid value encountered in true_divide\n",
      "C:\\Users\\gentemann\\Miniconda3\\lib\\site-packages\\ipykernel_launcher.py:34: RuntimeWarning: invalid value encountered in true_divide\n"
     ]
    },
    {
     "data": {
      "image/png": "[encoded data removed]",
      "text/plain": [
       "<Figure size 432x288 with 1 Axes>"
      ]
     },
     "metadata": {
      "needs_background": "light"
     },
     "output_type": "display_data"
    }
   ],
   "source": [
    "#prob successful jump, in 5mm bins rather than 1mm bins\n",
    "fish_num_cutoff = 10\n",
    "fish_length_int=ds.length.values.astype(int)\n",
    "width_bin=5\n",
    "hbins = np.arange(0,200,width_bin)-.5\n",
    "cond_lower = ((ds.successful_jump==0) & cond_6)  # stayed in lower pool, unsuccessful jumper\n",
    "cond_upper = ((ds.successful_jump==1) & cond_6) #made it to upper pool\n",
    "subset_upper = ds[cond_upper]\n",
    "subset_lower = ds[cond_lower]\n",
    "hist_jump, bin_edges = np.histogram(fish_length_int[cond_upper],bins=hbins)\n",
    "hist_nojump, bin_edges = np.histogram(fish_length_int[cond_lower],bins=hbins)\n",
    "tot_fish = hist_jump + hist_nojump\n",
    "cond_num = (tot_fish < fish_num_cutoff)\n",
    "prob_jump_6 = hist_jump / tot_fish\n",
    "prob_jump_6[cond_num]=np.nan\n",
    "cond_lower = ((ds.successful_jump==0) & cond_12)  # stayed in lower pool, unsuccessful jumper\n",
    "cond_upper = ((ds.successful_jump==1) & cond_12) #made it to upper pool\n",
    "subset_upper = ds[cond_upper]\n",
    "subset_lower = ds[cond_lower]\n",
    "hist_jump, bin_edges = np.histogram(fish_length_int[cond_upper],bins=hbins)\n",
    "hist_nojump, bin_edges = np.histogram(fish_length_int[cond_lower],bins=hbins)\n",
    "tot_fish = hist_jump + hist_nojump\n",
    "cond_num = (tot_fish < fish_num_cutoff)\n",
    "prob_jump_12 = hist_jump / tot_fish\n",
    "prob_jump_12[cond_num]=np.nan\n",
    "cond_lower = ((ds.successful_jump==0) & cond_18)  # stayed in lower pool, unsuccessful jumper\n",
    "cond_upper = ((ds.successful_jump==1) & cond_18) #made it to upper pool\n",
    "subset_upper = ds[cond_upper]\n",
    "subset_lower = ds[cond_lower]\n",
    "hist_jump, bin_edges = np.histogram(fish_length_int[cond_upper],bins=hbins)\n",
    "hist_nojump, bin_edges = np.histogram(fish_length_int[cond_lower],bins=hbins)\n",
    "tot_fish = hist_jump + hist_nojump\n",
    "cond_num = (tot_fish < fish_num_cutoff)\n",
    "prob_jump_18 = hist_jump / tot_fish\n",
    "prob_jump_18[cond_num]=np.nan\n",
    "fig = plt.figure()\n",
    "hfish,hbin2=np.histogram(fish_length_int[cond_6],bins=hbins)\n",
    "plt.bar(bin_edges[:-1],hfish/hfish.max(), width=width_bin,color='r', alpha=0.5)\n",
    "hfish,hbin2=np.histogram(fish_length_int[cond_12],bins=hbins)\n",
    "plt.bar(bin_edges[:-1],hfish/hfish.max(), width=width_bin,color='b', alpha=0.5)\n",
    "hfish,hbin2=np.histogram(fish_length_int[cond_18],bins=hbins)\n",
    "plt.bar(bin_edges[:-1],hfish/hfish.max(), width=width_bin,color='k', alpha=0.5)\n",
    "plt.plot(bin_edges[:-1],prob_jump_6, color='r')\n",
    "plt.plot(bin_edges[:-1],prob_jump_12, color='b')\n",
    "plt.plot(bin_edges[:-1],prob_jump_18, color='k')\n",
    "plt.axis([0, 200,0, 1])\n",
    "plt.ylabel('Probability Successful Jump (%)')\n",
    "plt.xlabel('Length (mm)')\n",
    "plt.text(10,.9,'6\" jump',color='r')\n",
    "plt.text(10,.84,'12\" jump',color='b')\n",
    "plt.text(10,.78,'18\" jump',color='k')\n",
    "fig.savefig(adir+'prob_'+str(width_bin)+'mmbins.png', dpi=300)"
   ]
  },
  {
   "cell_type": "code",
   "execution_count": 19,
   "metadata": {},
   "outputs": [
    {
     "data": {
      "text/plain": [
       "<matplotlib.axes._subplots.AxesSubplot at 0xbb3de10>"
      ]
     },
     "execution_count": 19,
     "metadata": {},
     "output_type": "execute_result"
    },
    {
     "data": {
      "image/png": "[encoded data removed]",
      "text/plain": [
       "<Figure size 432x288 with 1 Axes>"
      ]
     },
     "metadata": {
      "needs_background": "light"
     },
     "output_type": "display_data"
    }
   ],
   "source": [
    "#hbins = np.arange(0,200,10)-.5\n",
    "#cond_lower = ((ds.successful_jump==0) & cond_6)  # stayed in lower pool, unsuccessful jumper\n",
    "#cond_upper = ((ds.successful_jump==1) & cond_6) #made it to upper pool\n",
    "ds.length[cond_18].hist(bins=range(0,200,5))\n"
   ]
  },
  {
   "cell_type": "code",
   "execution_count": 20,
   "metadata": {},
   "outputs": [
    {
     "data": {
      "text/plain": [
       "<matplotlib.axes._subplots.AxesSubplot at 0xb9cad30>"
      ]
     },
     "execution_count": 20,
     "metadata": {},
     "output_type": "execute_result"
    },
    {
     "data": {
      "image/png": "[encoded data removed]",
      "text/plain": [
       "<Figure size 432x288 with 1 Axes>"
      ]
     },
     "metadata": {
      "needs_background": "light"
     },
     "output_type": "display_data"
    }
   ],
   "source": [
    "ds.length.hist(bins=range(0,200,10))"
   ]
  },
  {
   "cell_type": "code",
   "execution_count": null,
   "metadata": {},
   "outputs": [],
   "source": []
  }
 ],
 "metadata": {
  "kernelspec": {
   "display_name": "Python 3",
   "language": "python",
   "name": "python3"
  },
  "language_info": {
   "codemirror_mode": {
    "name": "ipython",
    "version": 3
   },
   "file_extension": ".py",
   "mimetype": "text/x-python",
   "name": "python",
   "nbconvert_exporter": "python",
   "pygments_lexer": "ipython3",
   "version": "3.7.0"
  }
 },
 "nbformat": 4,
 "nbformat_minor": 2
}
